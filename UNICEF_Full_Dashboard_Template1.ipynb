{
 "cells": [
  {
   "cell_type": "markdown",
   "id": "0797a720",
   "metadata": {},
   "source": [
    "# 💜 Breaking Barriers: Women's Rights Data Dashboard\n",
    "\n",
    "This analysis explores how economic development and social factors shape women's health outcomes across countries — focusing on fertility rate, child mortality, and GDP per capita."
   ]
  },
  {
   "cell_type": "markdown",
   "id": "40b3c5d7",
   "metadata": {},
   "source": [
    "## 📂 Step 1: Install Required Libraries"
   ]
  },
  {
   "cell_type": "code",
   "execution_count": null,
   "id": "519af282",
   "metadata": {},
   "outputs": [],
   "source": [
    "!pip install pandas plotnine geopandas matplotlib"
   ]
  },
  {
   "cell_type": "markdown",
   "id": "374b0d52",
   "metadata": {},
   "source": [
    "## 📁 Step 2: Upload Your CSV Files\n",
    "\n",
    "Use the left-side **Files tab (📂)** in Colab and upload these files manually:\n",
    "- `unicef_indicator_1.csv`\n",
    "- `unicef_metadata.csv`"
   ]
  },
  {
   "cell_type": "markdown",
   "id": "46d12456",
   "metadata": {},
   "source": [
    "## 🔄 Step 3: Import Libraries"
   ]
  },
  {
   "cell_type": "code",
   "execution_count": null,
   "id": "749f223e",
   "metadata": {},
   "outputs": [],
   "source": [
    "import pandas as pd\n",
    "from plotnine import *"
   ]
  },
  {
   "cell_type": "markdown",
   "id": "5e915fd2",
   "metadata": {},
   "source": [
    "## 📄 Step 4: Confirm Uploaded Files"
   ]
  },
  {
   "cell_type": "code",
   "execution_count": null,
   "id": "4cb8e246",
   "metadata": {},
   "outputs": [],
   "source": [
    "!ls /content/"
   ]
  },
  {
   "cell_type": "markdown",
   "id": "060d3265",
   "metadata": {},
   "source": [
    "## 📊 Step 5: Load CSV Files Correctly"
   ]
  },
  {
   "cell_type": "code",
   "execution_count": null,
   "id": "a7c0f823",
   "metadata": {},
   "outputs": [],
   "source": [
    "indicator1 = pd.read_csv('/content/unicef_indicator_1.csv')\n",
    "metadata = pd.read_csv('/content/unicef_metadata.csv')\n",
    "\n",
    "indicator1 = indicator1.drop(columns=['Unnamed: 0'], errors='ignore')\n",
    "metadata = metadata.drop(columns=['Unnamed: 0'], errors='ignore')\n",
    "\n",
    "print(\"Indicator1 Data:\")\n",
    "print(indicator1.head())\n",
    "\n",
    "print(\"\\nMetadata:\")\n",
    "print(metadata.head())"
   ]
  },
  {
   "cell_type": "markdown",
   "id": "1977183a",
   "metadata": {},
   "source": [
    "## 🔁 Step 6: Merge Data on 'country' Column"
   ]
  },
  {
   "cell_type": "code",
   "execution_count": null,
   "id": "cc7fcc94",
   "metadata": {},
   "outputs": [],
   "source": [
    "merged_data = pd.merge(indicator1, metadata, on='country', how='left')\n",
    "print(merged_data.head())"
   ]
  },
  {
   "cell_type": "markdown",
   "id": "3341100c",
   "metadata": {},
   "source": [
    "## 🔧 Step 7: Rename Columns for Plotting"
   ]
  },
  {
   "cell_type": "code",
   "execution_count": null,
   "id": "87cb9117",
   "metadata": {},
   "outputs": [],
   "source": [
    "merged_data = merged_data.rename(columns={\n",
    "    'obs_value': 'MortalityRate',\n",
    "    'birth_rate,_crude_(per_1,000_people)': 'FertilityRate',\n",
    "    'gdp_per_capita_(constant_2015_us$)': 'GDPperCapita',\n",
    "    'time_period': 'Year'\n",
    "})\n",
    "print(merged_data.head())"
   ]
  },
  {
   "cell_type": "markdown",
   "id": "2625a842",
   "metadata": {},
   "source": [
    "## 📊 Bar Chart – Top 10 Countries by Fertility Rate"
   ]
  },
  {
   "cell_type": "code",
   "execution_count": null,
   "id": "dcfe76fb",
   "metadata": {},
   "outputs": [],
   "source": [
    "top10 = merged_data.sort_values('FertilityRate', ascending=False).head(10)\n",
    "bar_plot = (ggplot(top10) +\n",
    "            aes(x='reorder(country, FertilityRate)', y='FertilityRate') +\n",
    "            geom_col(fill='skyblue') +\n",
    "            coord_flip() +\n",
    "            labs(title='Top 10 Countries by Fertility Rate', x='Country', y='Fertility Rate'))\n",
    "bar_plot.save('/content/bar_chart_fertility.png')\n",
    "\n",
    "from google.colab import files\n",
    "files.download('/content/bar_chart_fertility.png')\n",
    "bar_plot"
   ]
  },
  {
   "cell_type": "markdown",
   "id": "39f37e64",
   "metadata": {},
   "source": [
    "## ⚪ Scatterplot – GDP per Capita vs Child Mortality Rate"
   ]
  },
  {
   "cell_type": "code",
   "execution_count": null,
   "id": "389294c0",
   "metadata": {},
   "outputs": [],
   "source": [
    "scatter_plot = (ggplot(merged_data) +\n",
    "                aes(x='GDPperCapita', y='MortalityRate') +\n",
    "                geom_point(color='darkorange') +\n",
    "                geom_smooth(method='lm', color='blue') +\n",
    "                labs(title='GDP per Capita vs Child Mortality Rate',\n",
    "                     x='GDP per Capita', y='Mortality Rate'))\n",
    "scatter_plot.save('/content/scatterplot_gdp_vs_mortality.png')\n",
    "files.download('/content/scatterplot_gdp_vs_mortality.png')\n",
    "scatter_plot"
   ]
  },
  {
   "cell_type": "markdown",
   "id": "3acf4ac0",
   "metadata": {},
   "source": [
    "## 📈 Time-Series – Mortality Rate Over Time"
   ]
  },
  {
   "cell_type": "code",
   "execution_count": null,
   "id": "4a2ad5d0",
   "metadata": {},
   "outputs": [],
   "source": [
    "time_series_plot = (ggplot(merged_data) +\n",
    "                    aes(x='Year', y='MortalityRate', group='country', color='country') +\n",
    "                    geom_line(alpha=0.4) +\n",
    "                    labs(title='Child Mortality Rate Over Time', x='Year', y='Mortality Rate'))\n",
    "time_series_plot.save('/content/time_series_mortality.png')\n",
    "files.download('/content/time_series_mortality.png')\n",
    "time_series_plot"
   ]
  },
  {
   "cell_type": "markdown",
   "id": "9afc5573",
   "metadata": {},
   "source": [
    "## 📌 Key Metrics Summary"
   ]
  },
  {
   "cell_type": "code",
   "execution_count": null,
   "id": "3d39aef0",
   "metadata": {},
   "outputs": [],
   "source": [
    "print(\"🌿 Global Average Fertility Rate:\", round(merged_data['FertilityRate'].mean(), 2))\n",
    "print(\"🍼 Global Average Mortality Rate:\", round(merged_data['MortalityRate'].mean(), 2))\n",
    "print(\"👑 Top Country by Fertility Rate:\", merged_data.sort_values('FertilityRate', ascending=False).iloc[0]['country'])\n",
    "print(\"🛑 Top Country by Mortality Rate:\", merged_data.sort_values('MortalityRate', ascending=False).iloc[0]['country'])"
   ]
  },
  {
   "cell_type": "markdown",
   "id": "00fd72e1",
   "metadata": {},
   "source": [
    "## ✅ Conclusion\n",
    "\n",
    "- Fertility rates are highest in low-income regions.\n",
    "- GDP per capita shows an inverse relationship with child mortality.\n",
    "- Some regions still face challenges with mortality reduction.\n",
    "\n",
    "This highlights the need for targeted healthcare and educational policies to ensure equal opportunities for women and children globally."
   ]
  }
 ],
 "metadata": {},
 "nbformat": 4,
 "nbformat_minor": 5
}
